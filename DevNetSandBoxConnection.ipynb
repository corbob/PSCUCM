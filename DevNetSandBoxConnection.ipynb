{
    "metadata": {
        "kernelspec": {
            "name": "powershell",
            "display_name": "PowerShell"
        },
        "language_info": {
            "name": "powershell",
            "codemirror_mode": "shell",
            "mimetype": "text/x-sh",
            "file_extension": ".ps1"
        }
    },
    "nbformat_minor": 2,
    "nbformat": 4,
    "cells": [
        {
            "cell_type": "code",
            "source": [
                "IPMO .\\repos\\PSCUCM\\PSCUCM\\PSCUCM.psd1 -Force"
            ],
            "metadata": {
                "azdata_cell_guid": "0cb99f53-85e2-4975-8b4b-7b60507eeaa7",
                "tags": []
            },
            "outputs": [
                {
                    "name": "stdout",
                    "text": "",
                    "output_type": "stream"
                }
            ],
            "execution_count": 10
        },
        {
            "cell_type": "code",
            "source": [
                "$secpasswd = ConvertTo-SecureString \"ciscopsdt\" -AsPlainText -Force\r\n",
                "$mycreds = New-Object System.Management.Automation.PSCredential (\"administrator\", $secpasswd)\r\n",
                "connect-pscucm -AXLVersion 11.5 -server 10.10.20.1 -SkipCertificateCheck -Credential $mycreds -PersistSettings"
            ],
            "metadata": {
                "azdata_cell_guid": "e3136004-9919-4785-a6c2-303aef9f2bfc"
            },
            "outputs": [],
            "execution_count": 0
        },
        {
            "cell_type": "code",
            "source": [
                "List-PSCUCMTranslationPattern -pattern %"
            ],
            "metadata": {
                "azdata_cell_guid": "a3f38111-d9c1-4611-8697-e4a8df2c9a17"
            },
            "outputs": [
                {
                    "name": "stdout",
                    "text": "List-PSCUCMTranslationPattern : The term 'List-PSCUCMTranslationPattern' is not recognized as the name of a cmdlet, \nfunction, script file, or operable program. Check the spelling of the name, or if a path was included, verify that the \npath is correct and try again.\nAt line:1 char:5\n+ . { List-PSCUCMTranslationPattern -pattern % }\n+     ~~~~~~~~~~~~~~~~~~~~~~~~~~~~~\n    + CategoryInfo          : ObjectNotFound: (List-PSCUCMTranslationPattern:String) [], CommandNotFoundException\n    + FullyQualifiedErrorId : CommandNotFoundException\n \n",
                    "output_type": "stream"
                }
            ],
            "execution_count": 11
        }
    ]
}